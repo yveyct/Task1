{
 "cells": [
  {
   "cell_type": "code",
   "execution_count": 1,
   "id": "e2c223b5-758a-4be3-bd35-5866c1352d04",
   "metadata": {
    "tags": []
   },
   "outputs": [
    {
     "name": "stdout",
     "output_type": "stream",
     "text": [
      "Requirement already satisfied: google-cloud-storage in /opt/conda/lib/python3.10/site-packages (2.14.0)\n",
      "Requirement already satisfied: pandas in /opt/conda/lib/python3.10/site-packages (2.0.3)\n",
      "Requirement already satisfied: google-auth<3.0dev,>=2.23.3 in /opt/conda/lib/python3.10/site-packages (from google-cloud-storage) (2.29.0)\n",
      "Requirement already satisfied: google-api-core!=2.0.*,!=2.1.*,!=2.2.*,!=2.3.0,<3.0.0dev,>=1.31.5 in /opt/conda/lib/python3.10/site-packages (from google-cloud-storage) (2.19.0)\n",
      "Requirement already satisfied: google-cloud-core<3.0dev,>=2.3.0 in /opt/conda/lib/python3.10/site-packages (from google-cloud-storage) (2.4.1)\n",
      "Requirement already satisfied: google-resumable-media>=2.6.0 in /opt/conda/lib/python3.10/site-packages (from google-cloud-storage) (2.7.0)\n",
      "Requirement already satisfied: requests<3.0.0dev,>=2.18.0 in /opt/conda/lib/python3.10/site-packages (from google-cloud-storage) (2.31.0)\n",
      "Requirement already satisfied: google-crc32c<2.0dev,>=1.0 in /opt/conda/lib/python3.10/site-packages (from google-cloud-storage) (1.5.0)\n",
      "Requirement already satisfied: python-dateutil>=2.8.2 in /opt/conda/lib/python3.10/site-packages (from pandas) (2.9.0)\n",
      "Requirement already satisfied: pytz>=2020.1 in /opt/conda/lib/python3.10/site-packages (from pandas) (2024.1)\n",
      "Requirement already satisfied: tzdata>=2022.1 in /opt/conda/lib/python3.10/site-packages (from pandas) (2024.1)\n",
      "Requirement already satisfied: numpy>=1.21.0 in /opt/conda/lib/python3.10/site-packages (from pandas) (1.25.2)\n",
      "Requirement already satisfied: googleapis-common-protos<2.0.dev0,>=1.56.2 in /opt/conda/lib/python3.10/site-packages (from google-api-core!=2.0.*,!=2.1.*,!=2.2.*,!=2.3.0,<3.0.0dev,>=1.31.5->google-cloud-storage) (1.63.0)\n",
      "Requirement already satisfied: protobuf!=3.20.0,!=3.20.1,!=4.21.0,!=4.21.1,!=4.21.2,!=4.21.3,!=4.21.4,!=4.21.5,<5.0.0.dev0,>=3.19.5 in /opt/conda/lib/python3.10/site-packages (from google-api-core!=2.0.*,!=2.1.*,!=2.2.*,!=2.3.0,<3.0.0dev,>=1.31.5->google-cloud-storage) (3.20.3)\n",
      "Requirement already satisfied: proto-plus<2.0.0dev,>=1.22.3 in /opt/conda/lib/python3.10/site-packages (from google-api-core!=2.0.*,!=2.1.*,!=2.2.*,!=2.3.0,<3.0.0dev,>=1.31.5->google-cloud-storage) (1.23.0)\n",
      "Requirement already satisfied: cachetools<6.0,>=2.0.0 in /opt/conda/lib/python3.10/site-packages (from google-auth<3.0dev,>=2.23.3->google-cloud-storage) (5.3.3)\n",
      "Requirement already satisfied: pyasn1-modules>=0.2.1 in /opt/conda/lib/python3.10/site-packages (from google-auth<3.0dev,>=2.23.3->google-cloud-storage) (0.4.0)\n",
      "Requirement already satisfied: rsa<5,>=3.1.4 in /opt/conda/lib/python3.10/site-packages (from google-auth<3.0dev,>=2.23.3->google-cloud-storage) (4.9)\n",
      "Requirement already satisfied: six>=1.5 in /opt/conda/lib/python3.10/site-packages (from python-dateutil>=2.8.2->pandas) (1.16.0)\n",
      "Requirement already satisfied: charset-normalizer<4,>=2 in /opt/conda/lib/python3.10/site-packages (from requests<3.0.0dev,>=2.18.0->google-cloud-storage) (3.3.2)\n",
      "Requirement already satisfied: idna<4,>=2.5 in /opt/conda/lib/python3.10/site-packages (from requests<3.0.0dev,>=2.18.0->google-cloud-storage) (3.7)\n",
      "Requirement already satisfied: urllib3<3,>=1.21.1 in /opt/conda/lib/python3.10/site-packages (from requests<3.0.0dev,>=2.18.0->google-cloud-storage) (1.26.18)\n",
      "Requirement already satisfied: certifi>=2017.4.17 in /opt/conda/lib/python3.10/site-packages (from requests<3.0.0dev,>=2.18.0->google-cloud-storage) (2024.2.2)\n",
      "Requirement already satisfied: pyasn1<0.7.0,>=0.4.6 in /opt/conda/lib/python3.10/site-packages (from pyasn1-modules>=0.2.1->google-auth<3.0dev,>=2.23.3->google-cloud-storage) (0.6.0)\n",
      "\u001b[33mWARNING: Running pip as the 'root' user can result in broken permissions and conflicting behaviour with the system package manager. It is recommended to use a virtual environment instead: https://pip.pypa.io/warnings/venv\u001b[0m\u001b[33m\n",
      "\u001b[0m"
     ]
    }
   ],
   "source": [
    "!pip install google-cloud-storage pandas\n"
   ]
  },
  {
   "cell_type": "code",
   "execution_count": 17,
   "id": "44c217e6-d3ab-4e78-8333-71cac3e6e89f",
   "metadata": {
    "tags": []
   },
   "outputs": [],
   "source": [
    "import zstandard as zstd\n",
    "import os\n",
    "import subprocess\n",
    "import pandas as pd\n"
   ]
  },
  {
   "cell_type": "code",
   "execution_count": 18,
   "id": "790e0c3a-2267-4548-ae6e-94e921da9203",
   "metadata": {
    "tags": []
   },
   "outputs": [],
   "source": [
    "\n",
    "gsutil_path = 'gs://cloud-samples-data/bigquery/sample-transactions/transactions.csv'\n",
    "local_path = '/tmp/transactions.csv'\n",
    "\n",
    "df = pd.read_csv(local_path)\n",
    "\n"
   ]
  },
  {
   "cell_type": "code",
   "execution_count": 19,
   "id": "03db0ed0-5860-4c03-8257-0605982c644a",
   "metadata": {},
   "outputs": [],
   "source": [
    "df['timestamp'] = pd.to_datetime(df['timestamp'])"
   ]
  },
  {
   "cell_type": "code",
   "execution_count": 20,
   "id": "ae1adcc0-dff2-4e0a-99d0-e44e9b51d649",
   "metadata": {
    "tags": []
   },
   "outputs": [],
   "source": [
    "filtered_transactions = df[df['transaction_amount'] > 20].copy()"
   ]
  },
  {
   "cell_type": "code",
   "execution_count": 21,
   "id": "b8446db7-fbcd-4b7a-98ff-859b2ff2389e",
   "metadata": {
    "tags": []
   },
   "outputs": [],
   "source": [
    "filtered_transactions = filtered_transactions[filtered_transactions['timestamp'].dt.year >= 2010].copy()"
   ]
  },
  {
   "cell_type": "code",
   "execution_count": 27,
   "id": "d4ad02fa-37fb-4348-9a84-53df59fc829f",
   "metadata": {
    "tags": []
   },
   "outputs": [],
   "source": [
    "filtered_transactions['date'] = filtered_transactions['timestamp'].dt.date\n",
    "sum_by_date = filtered_transactions.groupby('date')['transaction_amount'].sum().reset_index()"
   ]
  },
  {
   "cell_type": "code",
   "execution_count": 28,
   "id": "75e185cd-7cc6-45e5-9990-1402bde40b9a",
   "metadata": {
    "tags": []
   },
   "outputs": [
    {
     "data": {
      "text/plain": [
       "'date,transaction_amount\\n2017-03-18,2102.22\\n2017-08-31,13700000023.08\\n2018-02-27,129.12\\n'"
      ]
     },
     "execution_count": 28,
     "metadata": {},
     "output_type": "execute_result"
    }
   ],
   "source": [
    "sum_by_date.to_csv(index=False)\n"
   ]
  },
  {
   "cell_type": "code",
   "execution_count": 29,
   "id": "8277dd0f-9ffb-420d-93d0-a3d2b8cfd53e",
   "metadata": {
    "tags": []
   },
   "outputs": [],
   "source": [
    "json_str = sum_by_date.to_json(orient='records', lines=True)\n",
    "\n",
    "output_dir = 'output'\n",
    "os.makedirs(output_dir, exist_ok=True)\n",
    "json_file_path = os.path.join(output_dir, 'results.jsonl.z')\n",
    "\n",
    "with open(json_file_path, 'wb') as json_file:\n",
    "    compressor = zstd.ZstdCompressor()\n",
    "    compressed = compressor.compress(json_str.encode('utf-8'))\n",
    "    json_file.write(compressed)\n"
   ]
  },
  {
   "cell_type": "code",
   "execution_count": 30,
   "id": "aaa9e422-0e69-46f4-b251-abed022538b5",
   "metadata": {
    "tags": []
   },
   "outputs": [],
   "source": [
    "gitignore_path = '.gitignore'\n",
    "with open(gitignore_path, 'a') as gitignore_file:\n",
    "    gitignore_file.write('\\n# Ignore all files in the output directory\\noutput/*\\n')"
   ]
  },
  {
   "cell_type": "code",
   "execution_count": null,
   "id": "aad1ffb1-051c-42c4-be5a-7f6bdc6512a1",
   "metadata": {},
   "outputs": [],
   "source": []
  }
 ],
 "metadata": {
  "environment": {
   "kernel": "python3",
   "name": ".m121",
   "type": "gcloud",
   "uri": "us-docker.pkg.dev/deeplearning-platform-release/gcr.io/:m121"
  },
  "kernelspec": {
   "display_name": "Python 3 (ipykernel) (Local)",
   "language": "python",
   "name": "python3"
  },
  "language_info": {
   "codemirror_mode": {
    "name": "ipython",
    "version": 3
   },
   "file_extension": ".py",
   "mimetype": "text/x-python",
   "name": "python",
   "nbconvert_exporter": "python",
   "pygments_lexer": "ipython3",
   "version": "3.10.14"
  }
 },
 "nbformat": 4,
 "nbformat_minor": 5
}
